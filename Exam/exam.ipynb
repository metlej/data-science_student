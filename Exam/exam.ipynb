{
 "cells": [
  {
   "cell_type": "markdown",
   "metadata": {},
   "source": [
    "# Data Science final exam"
   ]
  },
  {
   "cell_type": "markdown",
   "metadata": {},
   "source": [
    "---"
   ]
  },
  {
   "cell_type": "code",
   "execution_count": null,
   "metadata": {},
   "outputs": [],
   "source": [
    "import matplotlib.pyplot as plt\n",
    "import numpy as np\n",
    "import pandas as pd\n",
    "import matplotlib as mpl"
   ]
  },
  {
   "cell_type": "markdown",
   "metadata": {},
   "source": [
    "## 1. Numpy exercises\n",
    "1.1 Generate a random numpy array of size 100, with float values from 0 to 5 "
   ]
  },
  {
   "cell_type": "code",
   "execution_count": null,
   "metadata": {},
   "outputs": [],
   "source": [
    "\n"
   ]
  },
  {
   "cell_type": "markdown",
   "metadata": {},
   "source": [
    "1.2 using a mask, select values between 1 & 2 and 3 & 4 "
   ]
  },
  {
   "cell_type": "code",
   "execution_count": null,
   "metadata": {},
   "outputs": [],
   "source": []
  },
  {
   "cell_type": "markdown",
   "metadata": {},
   "source": [
    "1.3 explain why the following lines return an error:<br>\n",
    "`array = np.arange(20)\n",
    "array[1]='toto'`"
   ]
  },
  {
   "cell_type": "code",
   "execution_count": null,
   "metadata": {},
   "outputs": [],
   "source": []
  },
  {
   "cell_type": "markdown",
   "metadata": {},
   "source": [
    "1.4 Why origin1[1] & origin2[1] do not have the same value?\n",
    "\n",
    "`origin1 = np.arange(20)<br>\n",
    "dest=origin1<br>\n",
    "dest[1]=100<br>\n",
    "print(\"origin1\",origin1)<br>\n",
    "<br>\n",
    "origin2 = np.arange(20)<br>\n",
    "value=origin2[1]<br>\n",
    "value=100<br>\n",
    "print(\"origin2\",origin2)'\n",
    "\n",
    "\n"
   ]
  },
  {
   "cell_type": "code",
   "execution_count": null,
   "metadata": {},
   "outputs": [],
   "source": []
  },
  {
   "cell_type": "markdown",
   "metadata": {},
   "source": [
    "1.5 modify previous code in order to be able to change values in \"dest\" without modifying values from \"origin1\""
   ]
  },
  {
   "cell_type": "code",
   "execution_count": null,
   "metadata": {},
   "outputs": [],
   "source": []
  },
  {
   "cell_type": "markdown",
   "metadata": {},
   "source": [
    "## 2. PySpark exercises\n",
    "2.1 Explain how spark perform evaluation of the following expression :\n",
    "\n",
    "the sum of squares :  $$\\sum_{i=1}^n x_i^3 $$  "
   ]
  },
  {
   "cell_type": "code",
   "execution_count": null,
   "metadata": {},
   "outputs": [],
   "source": []
  },
  {
   "cell_type": "markdown",
   "metadata": {},
   "source": [
    "2.2 Write the code to perform the previous evaluation on a RDD with 10000 entries (execution will failed as Spark is not installed)"
   ]
  },
  {
   "cell_type": "code",
   "execution_count": null,
   "metadata": {},
   "outputs": [],
   "source": []
  },
  {
   "cell_type": "markdown",
   "metadata": {},
   "source": [
    "2.3 Define which line of code will take most of the time to be executed, and explain why"
   ]
  },
  {
   "cell_type": "code",
   "execution_count": null,
   "metadata": {},
   "outputs": [],
   "source": []
  },
  {
   "cell_type": "markdown",
   "metadata": {},
   "source": [
    "## 3. Matplotlib exercises "
   ]
  },
  {
   "cell_type": "markdown",
   "metadata": {},
   "source": [
    "3.1 Plot $cos(x^2)$ for x in [0:10]    \n",
    "Adapt the number of points to have a smooth curve"
   ]
  },
  {
   "cell_type": "code",
   "execution_count": null,
   "metadata": {},
   "outputs": [],
   "source": []
  },
  {
   "cell_type": "markdown",
   "metadata": {},
   "source": [
    "3.2 Plot the polynomes $x^i$ for $i$ from 1 to 20 and x in [-1:1]    \n",
    "- Plot all the polynomes on the same graph.   \n",
    "- Add a legend for each curve.\n",
    "- Position the legend outside the plot.\n",
    "- Increase the size of the figure to see each curve"
   ]
  },
  {
   "cell_type": "code",
   "execution_count": null,
   "metadata": {},
   "outputs": [],
   "source": []
  },
  {
   "cell_type": "markdown",
   "metadata": {},
   "source": [
    "3.3 Make a histogram of a normal distribution with $\\sigma=3$ and a $mean = 10$\n",
    "- choose a size large enough to see a smooth distribution with 100 bins"
   ]
  },
  {
   "cell_type": "code",
   "execution_count": null,
   "metadata": {},
   "outputs": [],
   "source": []
  },
  {
   "cell_type": "markdown",
   "metadata": {},
   "source": [
    "## Data mining"
   ]
  },
  {
   "cell_type": "markdown",
   "metadata": {},
   "source": [
    "For this exercise, we will the Kepler dataset from NASA    \n",
    "https://catalog.data.gov/dataset/kepler"
   ]
  },
  {
   "cell_type": "markdown",
   "metadata": {},
   "source": [
    "1. Use `pandas` to load the data from `kepler.csv`"
   ]
  },
  {
   "cell_type": "code",
   "execution_count": 45,
   "metadata": {},
   "outputs": [],
   "source": [
    "kepler = `...`"
   ]
  },
  {
   "cell_type": "markdown",
   "metadata": {},
   "source": [
    "The dataset presents a series detected exoplanets (planets orbiting around stars other than the sun) parameters."
   ]
  },
  {
   "cell_type": "markdown",
   "metadata": {},
   "source": [
    "2. Print the list of columns in the dataset"
   ]
  },
  {
   "cell_type": "code",
   "execution_count": null,
   "metadata": {},
   "outputs": [],
   "source": []
  },
  {
   "cell_type": "markdown",
   "metadata": {},
   "source": [
    "Create a new dataset selecting only the following columns:    \n",
    "`['mass', 'radius', 'orbital_period', 'semi_major_axis', 'eccentricity',\n",
    "'inclination', 'discovered', 'detection_type', 'star_mass']`"
   ]
  },
  {
   "cell_type": "code",
   "execution_count": 81,
   "metadata": {},
   "outputs": [],
   "source": [
    "df = `...`"
   ]
  },
  {
   "cell_type": "markdown",
   "metadata": {},
   "source": [
    "2. Make a barplot of the `detection_type` parameters    \n",
    "*hint*: you can make barplots directly with pandas. Search the documentation to use `value_counts` and `plot.bar`.\n"
   ]
  },
  {
   "cell_type": "code",
   "execution_count": null,
   "metadata": {},
   "outputs": [],
   "source": []
  },
  {
   "cell_type": "markdown",
   "metadata": {},
   "source": [
    "Plot the evolution of the number of detected exoplanets as a function of the years"
   ]
  },
  {
   "cell_type": "code",
   "execution_count": null,
   "metadata": {},
   "outputs": [],
   "source": []
  },
  {
   "cell_type": "markdown",
   "metadata": {},
   "source": [
    "## Machine Learning"
   ]
  },
  {
   "cell_type": "markdown",
   "metadata": {},
   "source": [
    "1. Make a scatter plot of $log(\\text{mass})$ vs $log(\\text{orbital_period})$.    \n",
    "    - replace `...` by your dataframe\n",
    "        - it filters the `nan` values using the `.dropna()` function from pandas\n",
    "        - it applies `log10` to the values"
   ]
  },
  {
   "cell_type": "code",
   "execution_count": 3,
   "metadata": {},
   "outputs": [],
   "source": [
    "features = ['mass', 'orbital_period']\n",
    "mass_op = `...`[features].dropna().apply(np.log10)"
   ]
  },
  {
   "cell_type": "markdown",
   "metadata": {},
   "source": [
    "2. How many clusters do you see in this plot?    \n",
    "    - Use `sklearn.cluster.KMeans` to detect these clusters\n",
    "        - replace `...` by the correct number\n",
    "        - apply `.fit_predict` to the dataframe. The output are the `labels`.\n",
    "    - Plot them using `display_clusters` passing as argument `mass_op.mass`, `mass_op.orbital_period`, `labels`"
   ]
  },
  {
   "cell_type": "code",
   "execution_count": 5,
   "metadata": {},
   "outputs": [],
   "source": [
    "def display_clusters(x, y, labels, ax=None, **kwargs):\n",
    "    ax = plt.gca() if ax is None else ax\n",
    "    colors = mpl.cm.Set2(np.arange(len(set(labels))))\n",
    "    \n",
    "    if 's' not in kwargs:\n",
    "        kwargs['s'] = 2\n",
    "    \n",
    "    ax.scatter(x, y, c = colors[labels], **kwargs)\n",
    "    \n",
    "    return ax"
   ]
  },
  {
   "cell_type": "code",
   "execution_count": 77,
   "metadata": {},
   "outputs": [],
   "source": [
    "from sklearn.cluster import KMeans"
   ]
  },
  {
   "cell_type": "code",
   "execution_count": 225,
   "metadata": {},
   "outputs": [],
   "source": [
    "kmeans = KMeans(n_clusters=`...`)\n",
    "labels = kmeans.fit_predict(mass_op)"
   ]
  },
  {
   "cell_type": "code",
   "execution_count": 6,
   "metadata": {},
   "outputs": [
    {
     "data": {
      "text/plain": [
       "<function __main__.display_clusters(x, y, labels, ax=None, **kwargs)>"
      ]
     },
     "execution_count": 6,
     "metadata": {},
     "output_type": "execute_result"
    }
   ],
   "source": [
    "display_clusters"
   ]
  },
  {
   "cell_type": "markdown",
   "metadata": {},
   "source": [
    "3. KMeans on another dataset\n",
    "    - Apply the KMeans clustering to the dataset below with 2 clusters    \n",
    "    - Display the clusters (using the same function as previously)\n",
    "    - Do you agree with the result ?"
   ]
  },
  {
   "cell_type": "code",
   "execution_count": 239,
   "metadata": {},
   "outputs": [],
   "source": [
    "features = ['orbital_period', 'radius']\n",
    "orb_rad = df[features].dropna().apply(np.log10)"
   ]
  },
  {
   "cell_type": "code",
   "execution_count": null,
   "metadata": {},
   "outputs": [],
   "source": []
  },
  {
   "cell_type": "markdown",
   "metadata": {},
   "source": [
    "4. Gaussian mixture\n",
    "    - Apply `sklearn.mixture.GaussianMixture` with 2 components to the `orb_per` dataset\n",
    "    - Display the clusters.\n",
    "    - Does the result look better to you? How do you explain the difference of result between these two algorithms?"
   ]
  },
  {
   "cell_type": "code",
   "execution_count": 212,
   "metadata": {},
   "outputs": [],
   "source": [
    "from sklearn.mixture import GaussianMixture"
   ]
  },
  {
   "cell_type": "markdown",
   "metadata": {},
   "source": [
    "### Regression"
   ]
  },
  {
   "cell_type": "markdown",
   "metadata": {},
   "source": [
    "1. By exploring the different columns, find and display a correlation between two of them"
   ]
  },
  {
   "cell_type": "markdown",
   "metadata": {},
   "source": [
    "There is a strong correlation between `orbital_period` and `semi_major_axis`"
   ]
  },
  {
   "cell_type": "markdown",
   "metadata": {},
   "source": [
    "### We will now try to train a model to predict the radius of a planet from other features"
   ]
  },
  {
   "cell_type": "code",
   "execution_count": 258,
   "metadata": {},
   "outputs": [],
   "source": [
    "train_features = ['mass',\n",
    "                  'orbital_period',\n",
    "                  'eccentricity', \n",
    "                  'star_mass', \n",
    "                  'semi_major_axis']\n",
    "\n",
    "predict_feature = ['radius']\n",
    "\n",
    "all_features = train_features + predict_feature\n",
    "\n",
    "rf_dataset = df[all_features].dropna()"
   ]
  },
  {
   "cell_type": "markdown",
   "metadata": {},
   "source": [
    "1. Split the dataset into train and test datasets"
   ]
  },
  {
   "cell_type": "code",
   "execution_count": 259,
   "metadata": {},
   "outputs": [],
   "source": [
    "from sklearn.model_selection import train_test_split"
   ]
  },
  {
   "cell_type": "code",
   "execution_count": null,
   "metadata": {},
   "outputs": [],
   "source": []
  },
  {
   "cell_type": "markdown",
   "metadata": {},
   "source": [
    "2. Train a model (`sklearn.linear_model.LinearRegression`) on the training dataset to predict `predict_feature`"
   ]
  },
  {
   "cell_type": "code",
   "execution_count": 292,
   "metadata": {},
   "outputs": [],
   "source": [
    "from sklearn.linear_model import LinearRegression"
   ]
  },
  {
   "cell_type": "code",
   "execution_count": null,
   "metadata": {},
   "outputs": [],
   "source": []
  },
  {
   "cell_type": "markdown",
   "metadata": {},
   "source": [
    "Assess the performance of the model using the `scoring` function.   \n",
    "Does it look good to you ?"
   ]
  },
  {
   "cell_type": "code",
   "execution_count": 323,
   "metadata": {},
   "outputs": [],
   "source": [
    "def scoring(true_values, predicted_values, ax=None, **kwargs):\n",
    "    ax = plt.gca() if ax is None else ax\n",
    "    \n",
    "    ax.hist2d(true_values, predicted_values, **kwargs)\n",
    "    ax.plot(true_values, true_values, color='black', lw=1)\n",
    "    \n",
    "    score = r2_score(true_values, predicted_radius)\n",
    "    ax.set_title(\"Score = {:.3f}\".format(score))\n",
    "    \n",
    "    return ax"
   ]
  },
  {
   "cell_type": "code",
   "execution_count": null,
   "metadata": {},
   "outputs": [],
   "source": []
  },
  {
   "cell_type": "markdown",
   "metadata": {},
   "source": [
    "#### Open work\n",
    "Apply what we have seen during the lectures to improve the model (try some parameters scaling, try another model, fine-tune the hyperparameters... )   \n",
    "Conclude on your best scoring"
   ]
  },
  {
   "cell_type": "code",
   "execution_count": null,
   "metadata": {},
   "outputs": [],
   "source": []
  }
 ],
 "metadata": {
  "kernelspec": {
   "display_name": "Python 3",
   "language": "python",
   "name": "python3"
  },
  "language_info": {
   "codemirror_mode": {
    "name": "ipython",
    "version": 3
   },
   "file_extension": ".py",
   "mimetype": "text/x-python",
   "name": "python",
   "nbconvert_exporter": "python",
   "pygments_lexer": "ipython3",
   "version": "3.6.4"
  }
 },
 "nbformat": 4,
 "nbformat_minor": 2
}
